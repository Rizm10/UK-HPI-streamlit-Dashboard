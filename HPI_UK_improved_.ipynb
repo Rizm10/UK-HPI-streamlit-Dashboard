{
  "nbformat": 4,
  "nbformat_minor": 0,
  "metadata": {
    "colab": {
      "provenance": [],
      "authorship_tag": "ABX9TyMZkvKqSn4CWoq7zQyUyiRW",
      "include_colab_link": true
    },
    "kernelspec": {
      "name": "python3",
      "display_name": "Python 3"
    },
    "language_info": {
      "name": "python"
    }
  },
  "cells": [
    {
      "cell_type": "markdown",
      "metadata": {
        "id": "view-in-github",
        "colab_type": "text"
      },
      "source": [
        "<a href=\"https://colab.research.google.com/github/Rizm10/UK-HPI-streamlit-Dashboard/blob/main/HPI_UK_improved_.ipynb\" target=\"_parent\"><img src=\"https://colab.research.google.com/assets/colab-badge.svg\" alt=\"Open In Colab\"/></a>"
      ]
    },
    {
      "cell_type": "code",
      "source": [
        "!pip install streamlit"
      ],
      "metadata": {
        "colab": {
          "base_uri": "https://localhost:8080/"
        },
        "id": "a7esTgvBlGg_",
        "outputId": "37738c60-3e94-43df-bf82-822507960a7b"
      },
      "execution_count": 3,
      "outputs": [
        {
          "output_type": "stream",
          "name": "stdout",
          "text": [
            "Collecting streamlit\n",
            "  Downloading streamlit-1.47.0-py3-none-any.whl.metadata (9.0 kB)\n",
            "Requirement already satisfied: altair<6,>=4.0 in /usr/local/lib/python3.11/dist-packages (from streamlit) (5.5.0)\n",
            "Requirement already satisfied: blinker<2,>=1.5.0 in /usr/local/lib/python3.11/dist-packages (from streamlit) (1.9.0)\n",
            "Requirement already satisfied: cachetools<7,>=4.0 in /usr/local/lib/python3.11/dist-packages (from streamlit) (5.5.2)\n",
            "Requirement already satisfied: click<9,>=7.0 in /usr/local/lib/python3.11/dist-packages (from streamlit) (8.2.1)\n",
            "Requirement already satisfied: numpy<3,>=1.23 in /usr/local/lib/python3.11/dist-packages (from streamlit) (2.0.2)\n",
            "Requirement already satisfied: packaging<26,>=20 in /usr/local/lib/python3.11/dist-packages (from streamlit) (25.0)\n",
            "Requirement already satisfied: pandas<3,>=1.4.0 in /usr/local/lib/python3.11/dist-packages (from streamlit) (2.2.2)\n",
            "Requirement already satisfied: pillow<12,>=7.1.0 in /usr/local/lib/python3.11/dist-packages (from streamlit) (11.2.1)\n",
            "Requirement already satisfied: protobuf<7,>=3.20 in /usr/local/lib/python3.11/dist-packages (from streamlit) (5.29.5)\n",
            "Requirement already satisfied: pyarrow>=7.0 in /usr/local/lib/python3.11/dist-packages (from streamlit) (18.1.0)\n",
            "Requirement already satisfied: requests<3,>=2.27 in /usr/local/lib/python3.11/dist-packages (from streamlit) (2.32.3)\n",
            "Requirement already satisfied: tenacity<10,>=8.1.0 in /usr/local/lib/python3.11/dist-packages (from streamlit) (8.5.0)\n",
            "Requirement already satisfied: toml<2,>=0.10.1 in /usr/local/lib/python3.11/dist-packages (from streamlit) (0.10.2)\n",
            "Requirement already satisfied: typing-extensions<5,>=4.4.0 in /usr/local/lib/python3.11/dist-packages (from streamlit) (4.14.1)\n",
            "Collecting watchdog<7,>=2.1.5 (from streamlit)\n",
            "  Downloading watchdog-6.0.0-py3-none-manylinux2014_x86_64.whl.metadata (44 kB)\n",
            "\u001b[2K     \u001b[90m━━━━━━━━━━━━━━━━━━━━━━━━━━━━━━━━━━━━━━━━\u001b[0m \u001b[32m44.3/44.3 kB\u001b[0m \u001b[31m1.9 MB/s\u001b[0m eta \u001b[36m0:00:00\u001b[0m\n",
            "\u001b[?25hRequirement already satisfied: gitpython!=3.1.19,<4,>=3.0.7 in /usr/local/lib/python3.11/dist-packages (from streamlit) (3.1.44)\n",
            "Collecting pydeck<1,>=0.8.0b4 (from streamlit)\n",
            "  Downloading pydeck-0.9.1-py2.py3-none-any.whl.metadata (4.1 kB)\n",
            "Requirement already satisfied: tornado!=6.5.0,<7,>=6.0.3 in /usr/local/lib/python3.11/dist-packages (from streamlit) (6.4.2)\n",
            "Requirement already satisfied: jinja2 in /usr/local/lib/python3.11/dist-packages (from altair<6,>=4.0->streamlit) (3.1.6)\n",
            "Requirement already satisfied: jsonschema>=3.0 in /usr/local/lib/python3.11/dist-packages (from altair<6,>=4.0->streamlit) (4.24.0)\n",
            "Requirement already satisfied: narwhals>=1.14.2 in /usr/local/lib/python3.11/dist-packages (from altair<6,>=4.0->streamlit) (1.47.0)\n",
            "Requirement already satisfied: gitdb<5,>=4.0.1 in /usr/local/lib/python3.11/dist-packages (from gitpython!=3.1.19,<4,>=3.0.7->streamlit) (4.0.12)\n",
            "Requirement already satisfied: python-dateutil>=2.8.2 in /usr/local/lib/python3.11/dist-packages (from pandas<3,>=1.4.0->streamlit) (2.9.0.post0)\n",
            "Requirement already satisfied: pytz>=2020.1 in /usr/local/lib/python3.11/dist-packages (from pandas<3,>=1.4.0->streamlit) (2025.2)\n",
            "Requirement already satisfied: tzdata>=2022.7 in /usr/local/lib/python3.11/dist-packages (from pandas<3,>=1.4.0->streamlit) (2025.2)\n",
            "Requirement already satisfied: charset-normalizer<4,>=2 in /usr/local/lib/python3.11/dist-packages (from requests<3,>=2.27->streamlit) (3.4.2)\n",
            "Requirement already satisfied: idna<4,>=2.5 in /usr/local/lib/python3.11/dist-packages (from requests<3,>=2.27->streamlit) (3.10)\n",
            "Requirement already satisfied: urllib3<3,>=1.21.1 in /usr/local/lib/python3.11/dist-packages (from requests<3,>=2.27->streamlit) (2.4.0)\n",
            "Requirement already satisfied: certifi>=2017.4.17 in /usr/local/lib/python3.11/dist-packages (from requests<3,>=2.27->streamlit) (2025.7.14)\n",
            "Requirement already satisfied: smmap<6,>=3.0.1 in /usr/local/lib/python3.11/dist-packages (from gitdb<5,>=4.0.1->gitpython!=3.1.19,<4,>=3.0.7->streamlit) (5.0.2)\n",
            "Requirement already satisfied: MarkupSafe>=2.0 in /usr/local/lib/python3.11/dist-packages (from jinja2->altair<6,>=4.0->streamlit) (3.0.2)\n",
            "Requirement already satisfied: attrs>=22.2.0 in /usr/local/lib/python3.11/dist-packages (from jsonschema>=3.0->altair<6,>=4.0->streamlit) (25.3.0)\n",
            "Requirement already satisfied: jsonschema-specifications>=2023.03.6 in /usr/local/lib/python3.11/dist-packages (from jsonschema>=3.0->altair<6,>=4.0->streamlit) (2025.4.1)\n",
            "Requirement already satisfied: referencing>=0.28.4 in /usr/local/lib/python3.11/dist-packages (from jsonschema>=3.0->altair<6,>=4.0->streamlit) (0.36.2)\n",
            "Requirement already satisfied: rpds-py>=0.7.1 in /usr/local/lib/python3.11/dist-packages (from jsonschema>=3.0->altair<6,>=4.0->streamlit) (0.26.0)\n",
            "Requirement already satisfied: six>=1.5 in /usr/local/lib/python3.11/dist-packages (from python-dateutil>=2.8.2->pandas<3,>=1.4.0->streamlit) (1.17.0)\n",
            "Downloading streamlit-1.47.0-py3-none-any.whl (9.9 MB)\n",
            "\u001b[2K   \u001b[90m━━━━━━━━━━━━━━━━━━━━━━━━━━━━━━━━━━━━━━━━\u001b[0m \u001b[32m9.9/9.9 MB\u001b[0m \u001b[31m62.2 MB/s\u001b[0m eta \u001b[36m0:00:00\u001b[0m\n",
            "\u001b[?25hDownloading pydeck-0.9.1-py2.py3-none-any.whl (6.9 MB)\n",
            "\u001b[2K   \u001b[90m━━━━━━━━━━━━━━━━━━━━━━━━━━━━━━━━━━━━━━━━\u001b[0m \u001b[32m6.9/6.9 MB\u001b[0m \u001b[31m97.0 MB/s\u001b[0m eta \u001b[36m0:00:00\u001b[0m\n",
            "\u001b[?25hDownloading watchdog-6.0.0-py3-none-manylinux2014_x86_64.whl (79 kB)\n",
            "\u001b[2K   \u001b[90m━━━━━━━━━━━━━━━━━━━━━━━━━━━━━━━━━━━━━━━━\u001b[0m \u001b[32m79.1/79.1 kB\u001b[0m \u001b[31m5.9 MB/s\u001b[0m eta \u001b[36m0:00:00\u001b[0m\n",
            "\u001b[?25hInstalling collected packages: watchdog, pydeck, streamlit\n",
            "Successfully installed pydeck-0.9.1 streamlit-1.47.0 watchdog-6.0.0\n"
          ]
        }
      ]
    },
    {
      "cell_type": "code",
      "source": [
        "!pip install pyngrok\n"
      ],
      "metadata": {
        "colab": {
          "base_uri": "https://localhost:8080/"
        },
        "id": "RK0Fpmuxn7Ty",
        "outputId": "e89b7c02-ad9a-4ffc-ee6b-def80f88d903"
      },
      "execution_count": 4,
      "outputs": [
        {
          "output_type": "stream",
          "name": "stdout",
          "text": [
            "Collecting pyngrok\n",
            "  Downloading pyngrok-7.2.12-py3-none-any.whl.metadata (9.4 kB)\n",
            "Requirement already satisfied: PyYAML>=5.1 in /usr/local/lib/python3.11/dist-packages (from pyngrok) (6.0.2)\n",
            "Downloading pyngrok-7.2.12-py3-none-any.whl (26 kB)\n",
            "Installing collected packages: pyngrok\n",
            "Successfully installed pyngrok-7.2.12\n"
          ]
        }
      ]
    },
    {
      "cell_type": "code",
      "source": [
        "with open(\"app.py\", \"w\") as f:\n",
        "    f.write('''\n",
        "import streamlit as st\n",
        "import pandas as pd\n",
        "import matplotlib.pyplot as plt\n",
        "import seaborn as sns\n",
        "import numpy as np\n",
        "from PIL import Image\n",
        "\n",
        "# --- Page Setup ---\n",
        "st.set_page_config(page_title=\"UK Housing Dashboard\", layout=\"wide\")\n",
        "\n",
        "# --- Sidebar Logo & Filters ---\n",
        "logo = Image.open(\"gov_logo.png\")\n",
        "st.sidebar.image(logo, use_column_width=True)\n",
        "st.sidebar.markdown(\"<hr style='border:1px solid #1D70B8;'/>\", unsafe_allow_html=True)\n",
        "st.sidebar.header(\"Filters\")\n",
        "\n",
        "# --- Info Box ---\n",
        "st.markdown(\n",
        "    \"\"\"\n",
        "    <div style='background-color:#F3F2F1;padding:1rem;border-left:5px solid #1D70B8;border-radius:5px;margin-bottom:1rem'>\n",
        "    <strong>ℹ️ About This Dashboard</strong><br>\n",
        "    This dashboard provides key insights into the UK House Price Index, based on official data updated monthly.\n",
        "    </div>\n",
        "    \"\"\",\n",
        "    unsafe_allow_html=True\n",
        ")\n",
        "\n",
        "# --- Load Data ---\n",
        "df = pd.read_csv(\"UK-HPI-full-file-2025-02.csv\")\n",
        "df[\"Date\"] = pd.to_datetime(df[\"Date\"], errors=\"coerce\", dayfirst=True)\n",
        "df = df.dropna(subset=[\"Date\"]).sort_values(\"Date\")\n",
        "\n",
        "# --- Sidebar Filters ---\n",
        "regions = st.sidebar.multiselect(\"Select Region(s)\", options=df[\"RegionName\"].unique(), default=[\"London\", \"South East\"])\n",
        "property_types = st.sidebar.multiselect(\"Select Property Type(s)\", options=[\"Detached\", \"SemiDetached\", \"Terraced\", \"Flat\"], default=[\"Detached\", \"Flat\"])\n",
        "date_range = st.sidebar.date_input(\"Select Date Range\", [df[\"Date\"].min(), df[\"Date\"].max()])\n",
        "price_min, price_max = st.sidebar.slider(\"Select Price Range\", int(df[\"AveragePrice\"].min()), int(df[\"AveragePrice\"].max()), (int(df[\"AveragePrice\"].min()), int(df[\"AveragePrice\"].max())))\n",
        "\n",
        "# --- Apply Filters ---\n",
        "price_cols = {\n",
        "    \"Detached\": \"DetachedPrice\",\n",
        "    \"SemiDetached\": \"SemiDetachedPrice\",\n",
        "    \"Terraced\": \"TerracedPrice\",\n",
        "    \"Flat\": \"FlatPrice\"\n",
        "}\n",
        "\n",
        "filtered_df = df[\n",
        "    (df[\"RegionName\"].isin(regions)) &\n",
        "    (df[\"Date\"] >= pd.to_datetime(date_range[0])) &\n",
        "    (df[\"Date\"] <= pd.to_datetime(date_range[1])) &\n",
        "    (df[\"AveragePrice\"] >= price_min) &\n",
        "    (df[\"AveragePrice\"] <= price_max)\n",
        "]\n",
        "\n",
        "# --- KPI Summary ---\n",
        "latest_date = filtered_df[\"Date\"].max()\n",
        "latest_df = filtered_df[filtered_df[\"Date\"] == latest_date]\n",
        "latest_price = latest_df[\"AveragePrice\"].mean()\n",
        "latest_volume = latest_df[\"SalesVolume\"].sum()\n",
        "prev_month = latest_date - pd.DateOffset(months=1)\n",
        "prev_df = filtered_df[filtered_df[\"Date\"] == prev_month]\n",
        "prev_price = prev_df[\"AveragePrice\"].mean() if not prev_df.empty else np.nan\n",
        "pct_change = ((latest_price - prev_price) / prev_price) * 100 if not np.isnan(prev_price) else \"N/A\"\n",
        "\n",
        "st.markdown(\"### 📊 Key Metrics\")\n",
        "col1, col2, col3, col4 = st.columns(4)\n",
        "col1.metric(\"Latest Avg Price\", f\"£{latest_price:,.0f}\")\n",
        "col2.metric(\"Sales Volume\", f\"{int(latest_volume):,}\")\n",
        "col3.metric(\"MoM Change\", f\"{pct_change:.2f}%\" if not isinstance(pct_change, str) else \"N/A\")\n",
        "col4.metric(\"Last Updated\", latest_date.strftime(\"%b %Y\"))\n",
        "\n",
        "# --- Charts Grid ---\n",
        "c1, c2 = st.columns(2)\n",
        "\n",
        "with c1:\n",
        "    st.subheader(\"Monthly % Change in Avg Price\")\n",
        "    filtered_df = filtered_df.sort_values(by=\"Date\")\n",
        "    filtered_df[\"PctChange\"] = filtered_df.groupby(\"RegionName\")[\"AveragePrice\"].pct_change() * 100\n",
        "    fig1, ax1 = plt.subplots(figsize=(7, 4))\n",
        "    for region in regions:\n",
        "        region_data = filtered_df[filtered_df[\"RegionName\"] == region]\n",
        "        ax1.plot(region_data[\"Date\"], region_data[\"PctChange\"], label=region)\n",
        "    ax1.axhline(0, color=\"gray\", linestyle=\"--\")\n",
        "    ax1.set_ylabel(\"% Change\")\n",
        "    ax1.set_title(\"MoM % Change\")\n",
        "    ax1.legend()\n",
        "    ax1.grid(True)\n",
        "    st.pyplot(fig1)\n",
        "\n",
        "with c2:\n",
        "    st.subheader(\"Average Price Trend\")\n",
        "    fig2, ax2 = plt.subplots(figsize=(7, 4))\n",
        "    for region in regions:\n",
        "        region_data = filtered_df[filtered_df[\"RegionName\"] == region]\n",
        "        ax2.plot(region_data[\"Date\"], region_data[\"AveragePrice\"], label=region)\n",
        "    ax2.set_xlabel(\"Date\")\n",
        "    ax2.set_ylabel(\"Average Price\")\n",
        "    ax2.set_title(\"House Prices Over Time\")\n",
        "    ax2.legend()\n",
        "    ax2.grid(True)\n",
        "    st.pyplot(fig2)\n",
        "\n",
        "c3, c4 = st.columns(2)\n",
        "\n",
        "with c3:\n",
        "    st.subheader(\"Price Trend by Property Type\")\n",
        "    fig3, ax3 = plt.subplots(figsize=(7, 4))\n",
        "    type_df = df[\n",
        "        (df[\"RegionName\"].isin(regions)) &\n",
        "        (df[\"Date\"] >= pd.to_datetime(date_range[0])) &\n",
        "        (df[\"Date\"] <= pd.to_datetime(date_range[1]))\n",
        "    ]\n",
        "    for p_type in property_types:\n",
        "        ax3.plot(type_df[\"Date\"], type_df[price_cols[p_type]], label=p_type)\n",
        "    ax3.set_xlabel(\"Date\")\n",
        "    ax3.set_ylabel(\"Price\")\n",
        "    ax3.set_title(\"Avg Price by Property Type\")\n",
        "    ax3.legend()\n",
        "    ax3.grid(True)\n",
        "    st.pyplot(fig3)\n",
        "\n",
        "with c4:\n",
        "    st.subheader(\"Price Distribution\")\n",
        "    long_df = pd.melt(\n",
        "        df[df[\"RegionName\"].isin(regions)],\n",
        "        id_vars=[\"Date\", \"RegionName\"],\n",
        "        value_vars=[price_cols[p] for p in property_types],\n",
        "        var_name=\"Type\", value_name=\"Price\"\n",
        "    )\n",
        "    type_map = {v: k for k, v in price_cols.items()}\n",
        "    long_df[\"Type\"] = long_df[\"Type\"].map(type_map)\n",
        "    fig4, ax4 = plt.subplots(figsize=(7, 4))\n",
        "    sns.histplot(data=long_df, x=\"Price\", hue=\"Type\", multiple=\"stack\", bins=30, ax=ax4)\n",
        "    ax4.set_xlabel(\"Price\")\n",
        "    ax4.set_title(\"Price Distribution by Type\")\n",
        "    ax4.grid(True)\n",
        "    st.pyplot(fig4)\n",
        "\n",
        "# --- Outlier Detection ---\n",
        "Q1 = filtered_df[\"AveragePrice\"].quantile(0.25)\n",
        "Q3 = filtered_df[\"AveragePrice\"].quantile(0.75)\n",
        "IQR = Q3 - Q1\n",
        "outliers = filtered_df[\n",
        "    (filtered_df[\"AveragePrice\"] < Q1 - 1.5 * IQR) |\n",
        "    (filtered_df[\"AveragePrice\"] > Q3 + 1.5 * IQR)\n",
        "]\n",
        "\n",
        "if not outliers.empty:\n",
        "    with st.expander(\"📌 View Outliers\"):\n",
        "        st.markdown(\"### Potential Outliers in Average Price\")\n",
        "        st.dataframe(outliers[[\"Date\", \"RegionName\", \"AveragePrice\"]].head(10))\n",
        "''')\n"
      ],
      "metadata": {
        "id": "n-tnzQHfs-gs"
      },
      "execution_count": 17,
      "outputs": []
    },
    {
      "cell_type": "code",
      "source": [
        "import subprocess\n",
        "import time\n",
        "\n",
        "# Start streamlit with subprocess (non-blocking)\n",
        "process = subprocess.Popen([\"streamlit\", \"run\", \"app.py\"])\n",
        "time.sleep(10)  # Wait for it to boot before ngrok connects"
      ],
      "metadata": {
        "id": "RPaQZpyQpma9"
      },
      "execution_count": 18,
      "outputs": []
    },
    {
      "cell_type": "code",
      "source": [
        "from pyngrok import ngrok\n",
        "import time\n",
        "import os\n",
        "from google.colab import userdata\n",
        "\n",
        "# Kill previous tunnels\n",
        "ngrok.kill()\n",
        "\n",
        "# Set ngrok auth token\n",
        "NGROK_AUTH_TOKEN = userdata.get(\"NGROK_AUTH_TOKEN\")\n",
        "ngrok.set_auth_token(NGROK_AUTH_TOKEN)\n",
        "\n",
        "# Start streamlit in background\n",
        "os.system(\"streamlit run app.py &\")\n",
        "\n",
        "# Give it time to boot\n",
        "time.sleep(5)\n",
        "\n",
        "# Connect ngrok to streamlit\n",
        "public_url = ngrok.connect(8501)\n",
        "print(f\"🚀 Your app is live at: {public_url}\")"
      ],
      "metadata": {
        "colab": {
          "base_uri": "https://localhost:8080/"
        },
        "id": "q3IkCElXSNJz",
        "outputId": "81dbb0a9-34e7-4e0e-99ed-da5dc237ae1b"
      },
      "execution_count": 19,
      "outputs": [
        {
          "output_type": "stream",
          "name": "stdout",
          "text": [
            "🚀 Your app is live at: NgrokTunnel: \"https://dc3134a53d22.ngrok-free.app\" -> \"http://localhost:8501\"\n"
          ]
        }
      ]
    }
  ]
}